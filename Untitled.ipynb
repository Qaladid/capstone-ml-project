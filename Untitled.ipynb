{
 "cells": [
  {
   "cell_type": "code",
   "execution_count": 1,
   "id": "6cf8afff-5737-4aed-b47e-6ce9e2e461fc",
   "metadata": {},
   "outputs": [
    {
     "ename": "ModuleNotFoundError",
     "evalue": "No module named 'tflite_runtime'",
     "output_type": "error",
     "traceback": [
      "\u001b[1;31m---------------------------------------------------------------------------\u001b[0m",
      "\u001b[1;31mModuleNotFoundError\u001b[0m                       Traceback (most recent call last)",
      "Cell \u001b[1;32mIn[1], line 7\u001b[0m\n\u001b[0;32m      4\u001b[0m \u001b[38;5;28;01mimport\u001b[39;00m \u001b[38;5;21;01mnumpy\u001b[39;00m \u001b[38;5;28;01mas\u001b[39;00m \u001b[38;5;21;01mnp\u001b[39;00m\n\u001b[0;32m      5\u001b[0m \u001b[38;5;28;01mfrom\u001b[39;00m \u001b[38;5;21;01mPIL\u001b[39;00m \u001b[38;5;28;01mimport\u001b[39;00m Image\n\u001b[1;32m----> 7\u001b[0m \u001b[38;5;28;01mimport\u001b[39;00m \u001b[38;5;21;01mtflite_runtime\u001b[39;00m\u001b[38;5;21;01m.\u001b[39;00m\u001b[38;5;21;01minterpreter\u001b[39;00m \u001b[38;5;28;01mas\u001b[39;00m \u001b[38;5;21;01mtflite\u001b[39;00m\n\u001b[0;32m     10\u001b[0m \u001b[38;5;66;03m# Open the image\u001b[39;00m\n\u001b[0;32m     11\u001b[0m \u001b[38;5;28;01mwith\u001b[39;00m Image\u001b[38;5;241m.\u001b[39mopen(\u001b[38;5;124m'\u001b[39m\u001b[38;5;124mperson100_bacteria_475.jpeg\u001b[39m\u001b[38;5;124m'\u001b[39m) \u001b[38;5;28;01mas\u001b[39;00m img:\n",
      "\u001b[1;31mModuleNotFoundError\u001b[0m: No module named 'tflite_runtime'"
     ]
    }
   ],
   "source": [
    "#!/usr/bin/env python\n",
    "# coding: utf-8\n",
    "\n",
    "import numpy as np\n",
    "from PIL import Image\n",
    "\n",
    "import tflite_runtime.interpreter as tflite\n",
    "\n",
    "\n",
    "# Open the image\n",
    "with Image.open('person100_bacteria_475.jpeg') as img:\n",
    "    img = img.convert('RGB')  # Convert to RGB to ensure 3 channels\n",
    "    img = img.resize((224, 224), Image.NEAREST)\n",
    "\n",
    "\n",
    "def preprocess_input(x):\n",
    "    x /=127.5\n",
    "    x -= 1.\n",
    "    return x\n",
    "\n",
    "x = np.array(img, dtype='float32')\n",
    "X = np.array([x])\n",
    "\n",
    "X = preprocess_input(X)\n",
    "\n",
    "\n",
    "interpreter = tflite.Interpreter(model_path='DensNet_v5_06_0.960.keras.tflite')\n",
    "interpreter.allocate_tensors()\n",
    "\n",
    "input_index = interpreter.get_input_details()[0]['index']\n",
    "output_index = interpreter.get_output_details()[0]['index']\n",
    "\n",
    "interpreter.set_tensor(input_index, X)\n",
    "interpreter.invoke()\n",
    "preds = interpreter.get_tensor(output_index)\n",
    "\n",
    "\n",
    "probability = preds[0][0]  # Extract the probability value\n",
    "\n",
    "# Decode the probability to a binary label\n",
    "binary_label = int(probability > 0.5)\n",
    "\n",
    "# Map binary labels to class names\n",
    "class_labels = {0: 'NORMAL', 1: 'PNEUMONIA'}\n",
    "predicted_class = class_labels[binary_label]\n",
    "\n",
    "# Print the result\n",
    "print(f\"Predicted class: {predicted_class}, Probability: {probability}\")"
   ]
  },
  {
   "cell_type": "code",
   "execution_count": null,
   "id": "7568f876-265b-4a86-9f0d-6e2970c9d3dd",
   "metadata": {},
   "outputs": [],
   "source": [
    "# Open the image\n",
    "with Image.open('person100_bacteria_475.jpeg') as img:\n",
    "    img = img.convert('RGB')  # Convert to RGB to ensure 3 channels\n",
    "    img = img.resize((224, 224), Image.NEAREST)"
   ]
  },
  {
   "cell_type": "code",
   "execution_count": null,
   "id": "3f318496-a5b5-4bbe-89af-41a91bc5640d",
   "metadata": {},
   "outputs": [],
   "source": [
    "def preprocess_input(x):\n",
    "    x /=127.5\n",
    "    x -= 1.\n",
    "    return x\n",
    "\n",
    "x = np.array(img, dtype='float32')\n",
    "X = np.array([x])\n",
    "\n",
    "X = preprocess_input(X)"
   ]
  },
  {
   "cell_type": "code",
   "execution_count": null,
   "id": "a1bcc205-cfad-48a7-b949-e2f103ef241e",
   "metadata": {},
   "outputs": [],
   "source": [
    "interpreter = tflite.Interpreter(model_path='DensNet_v5_06_0.960.keras.tflite')\n",
    "interpreter.allocate_tensors()\n",
    "\n",
    "input_index = interpreter.get_input_details()[0]['index']\n",
    "output_index = interpreter.get_output_details()[0]['index']"
   ]
  },
  {
   "cell_type": "code",
   "execution_count": null,
   "id": "26ca687b-5b10-4a15-924c-79cc3ec8b798",
   "metadata": {},
   "outputs": [],
   "source": [
    "interpreter.set_tensor(input_index, X)\n",
    "interpreter.invoke()\n",
    "preds = interpreter.get_tensor(output_index)"
   ]
  },
  {
   "cell_type": "code",
   "execution_count": null,
   "id": "3e35eae3-e3bc-4db2-878e-ed6ed4b98f09",
   "metadata": {},
   "outputs": [],
   "source": []
  },
  {
   "cell_type": "code",
   "execution_count": null,
   "id": "fab0aa9c-503e-499f-b8c9-84412a8a22ba",
   "metadata": {},
   "outputs": [],
   "source": [
    "# Decode the probability to a binary label\n",
    "binary_label = int(probability > 0.5)\n",
    "\n",
    "# Map binary labels to class names\n",
    "class_labels = {0: 'NORMAL', 1: 'PNEUMONIA'}\n",
    "predicted_class = class_labels[binary_label]\n",
    "\n",
    "# Print the result\n",
    "print(f\"Predicted class: {predicted_class}, Probability: {probability}\")"
   ]
  }
 ],
 "metadata": {
  "kernelspec": {
   "display_name": "Python 3 (ipykernel)",
   "language": "python",
   "name": "python3"
  },
  "language_info": {
   "codemirror_mode": {
    "name": "ipython",
    "version": 3
   },
   "file_extension": ".py",
   "mimetype": "text/x-python",
   "name": "python",
   "nbconvert_exporter": "python",
   "pygments_lexer": "ipython3",
   "version": "3.11.5"
  }
 },
 "nbformat": 4,
 "nbformat_minor": 5
}
